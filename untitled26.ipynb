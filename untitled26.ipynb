{
  "nbformat": 4,
  "nbformat_minor": 0,
  "metadata": {
    "colab": {
      "provenance": [],
      "authorship_tag": "ABX9TyNvW2XjK3ujG0Qtr0Ls0Ifc",
      "include_colab_link": true
    },
    "kernelspec": {
      "name": "python3",
      "display_name": "Python 3"
    },
    "language_info": {
      "name": "python"
    }
  },
  "cells": [
    {
      "cell_type": "markdown",
      "metadata": {
        "id": "view-in-github",
        "colab_type": "text"
      },
      "source": [
        "<a href=\"https://colab.research.google.com/github/Akhil9037/Galaxies/blob/main/untitled26.ipynb\" target=\"_parent\"><img src=\"https://colab.research.google.com/assets/colab-badge.svg\" alt=\"Open In Colab\"/></a>"
      ]
    },
    {
      "cell_type": "code",
      "execution_count": null,
      "metadata": {
        "colab": {
          "base_uri": "https://localhost:8080/"
        },
        "id": "7iJ73hPLf4QM",
        "outputId": "5a17e980-e9cc-462b-e3d4-1f39dbc62381"
      },
      "outputs": [
        {
          "output_type": "stream",
          "name": "stdout",
          "text": [
            "The co-moving separation between the two galaxies is 3.95 Mpc\n"
          ]
        }
      ],
      "source": [
        "from numpy import*\n",
        "from scipy.integrate import*\n",
        "def comoving_separation(z1, z2, Omega_m, Omega_Lambda):\n",
        "    c = 3.00e5 # speed of light in km/s\n",
        "    H0 = 67.4 # Hubble constant in km/s/Mpc\n",
        "\n",
        "    integrand = lambda z: 1 / sqrt(Omega_m * (1+z)**3 + Omega_Lambda)\n",
        "    result, _ = quad(integrand, z1, z2)\n",
        "\n",
        "    Dc = c / H0 * result\n",
        "    return Dc\n",
        "\n",
        "# Input parameters\n",
        "z1 = 0.114320\n",
        "z2 = 0.129680\n",
        "Omega_m = 211.715826\n",
        "Omega_Lambda = 0.639363\n",
        "\n",
        "# Calculate co-moving separation\n",
        "Dc = comoving_separation(z1, z2, Omega_m, Omega_Lambda)\n",
        "print(f\"The co-moving separation between the two galaxies is {Dc:.2f} Mpc\")"
      ]
    },
    {
      "cell_type": "code",
      "source": [
        "import numpy as np\n",
        "\n",
        "def hubble_parameter(redshift):\n",
        "    h0 = 67.4\n",
        "    omega_m = 0.3\n",
        "    omega_k = 0\n",
        "    omega_lambda = 0.7\n",
        "\n",
        "    e_z = np.sqrt(omega_m * (1 + redshift)**3 + omega_k * (1 + redshift)**2 + omega_lambda)\n",
        "\n",
        "    return h0 * e_z\n",
        "\n",
        "def comoving_separation(ra1, dec1, z1, ra2, dec2, z2):\n",
        "    c = 3.00e5 # speed of light in km/s\n",
        "\n",
        "    delta_z = np.abs(z1 - z2)\n",
        "\n",
        "    hubble_param = hubble_parameter((z1 + z2)/2)\n",
        "\n",
        "    comoving_sep = c * delta_z / hubble_param\n",
        "\n",
        "    return comoving_sep\n",
        "\n",
        "# Example usage\n",
        "ra_galaxy1 = 211.715826 # RA of galaxy 1 in degrees\n",
        "dec_galaxy1 = 0.639363 # Dec of galaxy 1 in degrees\n",
        "redshift_galaxy1 = 0.114320\n",
        "ra_galaxy2 = 211.775111 # RA of galaxy 2 in degrees\n",
        "dec_galaxy2 = 0.820451# Dec of galaxy 2 in degrees\n",
        "redshift_galaxy2 = 0.129680\n",
        "\n",
        "result_comoving_sep = comoving_separation(ra_galaxy1, dec_galaxy1, redshift_galaxy1,\n",
        "                                           ra_galaxy2, dec_galaxy2, redshift_galaxy2)\n",
        "\n",
        "print(\"Co-moving separation between the two galaxies is {:.2f} Mpc\".format(result_comoving_sep))"
      ],
      "metadata": {
        "colab": {
          "base_uri": "https://localhost:8080/"
        },
        "id": "sXa6zdB2hUD_",
        "outputId": "43bce104-5d24-4a92-e2c6-c3c76cea8410"
      },
      "execution_count": null,
      "outputs": [
        {
          "output_type": "stream",
          "name": "stdout",
          "text": [
            "Co-moving separation between the two galaxies is 64.49 Mpc\n"
          ]
        }
      ]
    }
  ]
}