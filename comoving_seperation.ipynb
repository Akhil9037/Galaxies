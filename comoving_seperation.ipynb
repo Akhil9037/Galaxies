{
  "nbformat": 4,
  "nbformat_minor": 0,
  "metadata": {
    "colab": {
      "provenance": [],
      "authorship_tag": "ABX9TyObAF8cQ/S6bIRCEraJFept",
      "include_colab_link": true
    },
    "kernelspec": {
      "name": "python3",
      "display_name": "Python 3"
    },
    "language_info": {
      "name": "python"
    }
  },
  "cells": [
    {
      "cell_type": "markdown",
      "metadata": {
        "id": "view-in-github",
        "colab_type": "text"
      },
      "source": [
        "<a href=\"https://colab.research.google.com/github/Akhil9037/Galaxies/blob/main/comoving_seperation.ipynb\" target=\"_parent\"><img src=\"https://colab.research.google.com/assets/colab-badge.svg\" alt=\"Open In Colab\"/></a>"
      ]
    },
    {
      "cell_type": "code",
      "execution_count": 3,
      "metadata": {
        "colab": {
          "base_uri": "https://localhost:8080/"
        },
        "id": "n5kYRhMSCtQy",
        "outputId": "62df3c58-6879-47eb-9e54-9a39deb3a0b7"
      },
      "outputs": [
        {
          "output_type": "stream",
          "name": "stdout",
          "text": [
            "64.03767359270809\n"
          ]
        }
      ],
      "source": [
        "from numpy import*\n",
        "from astropy.cosmology import Planck15\n",
        "from astropy.coordinates import SkyCoord\n",
        "\n",
        "def comoving_distance(ra1, dec1, z1, ra2, dec2, z2):\n",
        "    cosmo = Planck15\n",
        "    X_1 = cosmo.comoving_distance(z1).value * cos(radians(ra1)) * cos(radians(dec1))\n",
        "    X_2 = cosmo.comoving_distance(z2).value * cos(radians(ra2)) * cos(radians(dec2))\n",
        "    Y_1 = cosmo.comoving_distance(z1).value * cos(radians(ra1)) * sin(radians(dec1))\n",
        "    Y_2 = cosmo.comoving_distance(z2).value * cos(radians(ra2)) * sin(radians(dec2))\n",
        "    Z_1 = cosmo.comoving_distance(z1).value * sin(radians(ra1))\n",
        "    Z_2 = cosmo.comoving_distance(z2).value * sin(radians(ra2))\n",
        "\n",
        "    separation = sqrt(((X_1 - X_2) ** 2 + (Y_1 - Y_2) ** 2 + (Z_1 - Z_2) ** 2))\n",
        "\n",
        "    return separation\n",
        "\n",
        "ra_1 = 211.715826\n",
        "dec_1 = 0.639363\n",
        "z_1 = 0.114320\n",
        "ra_2 = 211.775111\n",
        "dec_2 = 0.820451\n",
        "z_2 = 0.129680\n",
        "\n",
        "comoving_sep = comoving_distance(ra_1, dec_1, z_1, ra_2, dec_2, z_2)\n",
        "print(comoving_sep)"
      ]
    },
    {
      "cell_type": "code",
      "source": [
        "from numpy import*\n",
        "from astropy.cosmology import Planck15\n",
        "from astropy.coordinates import SkyCoord\n",
        "\n",
        "def comoving_distance(ra1, dec1, z1, ra2, dec2, z2):\n",
        "    cosmo = Planck15\n",
        "    X_1 = cosmo.comoving_distance(z1).value * cos(radians(ra1)) * cos(radians(dec1))\n",
        "    X_2 = cosmo.comoving_distance(z2).value * cos(radians(ra2)) * cos(radians(dec2))\n",
        "    Y_1 = cosmo.comoving_distance(z1).value * cos(radians(ra1)) * sin(radians(dec1))\n",
        "    Y_2 = cosmo.comoving_distance(z2).value * cos(radians(ra2)) * sin(radians(dec2))\n",
        "    Z_1 = cosmo.comoving_distance(z1).value * sin(radians(ra1))\n",
        "    Z_2 = cosmo.comoving_distance(z2).value * sin(radians(ra2))\n",
        "\n",
        "    separation = sqrt(((X_1 - X_2)**2 + (Y_1 - Y_2)**2 + (Z_1 - Z_2)**2))\n",
        "\n",
        "    return separation\n",
        "\n",
        "ra_1 = 211.715826\n",
        "dec_1 = 0.639363\n",
        "z_1 = 0.114320\n",
        "ra_2 = 211.775111\n",
        "dec_2 = 0.820451\n",
        "z_2 = 0.129680\n",
        "\n",
        "comoving_sep = comoving_distance(ra_1, dec_1, z_1, ra_2, dec_2, z_2)\n",
        "print(comoving_sep)\n",
        "# Convert to Mpc/h\n",
        "comoving_sep *= Planck15.h\n",
        "\n",
        "print(comoving_sep,\"Mpc/h\")"
      ],
      "metadata": {
        "colab": {
          "base_uri": "https://localhost:8080/"
        },
        "id": "mw2gGdg8DV3y",
        "outputId": "661321a6-73f5-4c98-a188-59ea3a3f6713"
      },
      "execution_count": 4,
      "outputs": [
        {
          "output_type": "stream",
          "name": "stdout",
          "text": [
            "64.03767359270809\n",
            "43.37912009170046 Mpc/h\n"
          ]
        }
      ]
    }
  ]
}